{
 "cells": [
  {
   "cell_type": "code",
   "execution_count": 16,
   "metadata": {},
   "outputs": [
    {
     "name": "stdout",
     "output_type": "stream",
     "text": [
      "[<h4 class=\"title\"><a href=\"https://www.chinatimes.com/realtimenews/20201014001824-260407?ctrack=pc_main_hot_p01\">馬英九台北市長政績如何？資料一攤開酸民全傻了 - 政治</a></h4>, <h4 class=\"title\"><a href=\"https://www.chinatimes.com/realtimenews/20201013005450-260407?ctrack=pc_main_hot_p02\">罷韓後高雄變冷清？他「1張空拍圖」曝現況 網大驚 - 政治</a></h4>, <h4 class=\"title\"><a href=\"https://www.chinatimes.com/realtimenews/20201013003240-260404?ctrack=pc_main_hot_p03\">林子祥73歲近況曝光 生日同框愛妻葉蒨文「竟像父女」 - 娛樂</a></h4>, <h4 class=\"title\"><a href=\"https://www.chinatimes.com/realtimenews/20201014002710-260407?ctrack=pc_main_hot_p04\">因蔡英文「論文門」案遭控妨害名譽 彭文正自請求處死刑 - 政治</a></h4>, <h4 class=\"title\"><a href=\"https://www.chinatimes.com/realtimenews/20201014002371-260407?ctrack=pc_main_hot_p05\">韓國瑜手上握有「最強血滴子」？軍校校友會理事長不藏了 - 政治</a></h4>, <h4 class=\"title\"><a href=\"https://www.chinatimes.com/realtimenews/20201014001466-260407?ctrack=pc_main_hot_p06\">韓國瑜留下爛攤子？黃捷要高雄對「這55位孩子」負責 - 政治</a></h4>, <h4 class=\"title\"><a href=\"https://www.chinatimes.com/realtimenews/20201014001381-260407?ctrack=pc_main_hot_p07\">得知韓國瑜確定被罷免 李四川立刻做了這件事 - 政治</a></h4>, <h4 class=\"title\"><a href=\"https://www.chinatimes.com/realtimenews/20201014003361-260405?ctrack=pc_main_rtime_p01\">雙鋼印口罩 15日起恢復定額徵用</a></h4>, <h4 class=\"title\"><a href=\"https://www.chinatimes.com/realtimenews/20201014003319-260402?ctrack=pc_main_rtime_p02\">南鐵抗爭再爆衝突 支持者架梯爬入黃家與工人推擠</a></h4>, <h4 class=\"title\"><a href=\"https://www.chinatimes.com/realtimenews/20201014003360-260410?ctrack=pc_main_rtime_p03\">同心抗旱 中央各部會與地方政府將成立旱災中央災害應變中心</a></h4>, <h4 class=\"title\"><a href=\"https://www.chinatimes.com/realtimenews/20201014003356-260405?ctrack=pc_main_rtime_p04\">防疫時台灣民眾不健身心情低落 研究登上國際期刊</a></h4>, <h4 class=\"title\"><a href=\"https://www.chinatimes.com/realtimenews/20201014003344-260402?ctrack=pc_main_rtime_p05\">台南新化警分局掃毒 查獲毒品咖啡包分裝場及爆裂物</a><div class=\"ico-video\"></div></h4>, <h4 class=\"title\"><a href=\"https://www.chinatimes.com/realtimenews/20201014003323-260418?ctrack=pc_main_rtime_p06\">髖關節鏡手術 髖部關節軟骨破裂治療的利器　</a></h4>, <h4 class=\"title\"><a href=\"https://www.chinatimes.com/realtimenews/20201014003328-260410?ctrack=pc_main_rtime_p07\">華為再傳出售榮耀 外媒曝光1080億買家</a></h4>, <h4 class=\"title\"><a href=\"https://www.chinatimes.com/realtimenews/20201014003332-260405?ctrack=pc_main_rtime_p08\">雙鋼印口罩不再限實名制 15日起開放自由買賣</a></h4>, <h4 class=\"title\"><a href=\"https://www.chinatimes.com/realtimenews/20201014003292-260421?ctrack=pc_main_rtime_p09\">「蔣公行館變社宅」台中東區東勢子社宅開工</a></h4>, <h4 class=\"title\"><a href=\"https://www.chinatimes.com/realtimenews/20201014003242-260407?ctrack=pc_main_rtime_p10\">被問「會關掉中天嗎」？總統沒回應</a></h4>, <h4 class=\"title\"><a href=\"https://www.chinatimes.com/realtimenews/20200904004695-260410?chdtv\">信義房屋獲天下企業公民獎大型企業前三強 社會參與分...</a></h4>, <h4 class=\"title\"><a href=\"https://www.chinatimes.com/realtimenews/20201003000013-260410\">人才培育兼重專業與品德 信義房屋屢獲國內外CSR獎肯定</a></h4>, <h4 class=\"title\"><a href=\"https://www.chinatimes.com/realtimenews/20200806003809-260410?chdtv\">信義房屋「信義徵幸福」短片網路票選 人氣最高可得1萬...</a></h4>, <h4 class=\"title\"><a href=\"https://www.chinatimes.com/realtimenews/20200908001699-260410\">響應環保、支持小農 信義房屋普渡送平安米為社區祈福</a></h4>, <h4 class=\"title\"><a href=\"https://www.chinatimes.com/realtimenews/20200825005901-260410\">旺House》 房市真的回溫了！內政部鐵證曝光</a></h4>, <h4 class=\"title\"><a href=\"https://www.chinatimes.com/realtimenews/20200825005000-260410\">旺House》 電商衝擊！投資億元店面下場超慘</a></h4>, <h4 class=\"title\"><a href=\"https://www.chinatimes.com/realtimenews/20200825000013-260410\">旺House》【崴爺愛看房】捷運公園宅潛力股！移居、宜...</a></h4>, <h4 class=\"title\"><a href=\"https://www.chinatimes.com/realtimenews/20200825001596-260410\">旺House》必選「合雄5號花園」，超值入主桃園司法特區</a></h4>]\n"
     ]
    }
   ],
   "source": [
    "import requests\n",
    "from bs4 import BeautifulSoup\n",
    "response = requests.get(\n",
    "    \"https://www.chinatimes.com/?chdtv\")\n",
    "soup = BeautifulSoup(response.text, \"html.parser\")\n",
    "\n",
    "result = soup.find_all(\"h4\", \"title\", limit=40)\n",
    "print(result)"
   ]
  },
  {
   "cell_type": "code",
   "execution_count": null,
   "metadata": {},
   "outputs": [],
   "source": []
  },
  {
   "cell_type": "code",
   "execution_count": null,
   "metadata": {},
   "outputs": [],
   "source": []
  }
 ],
 "metadata": {
  "kernelspec": {
   "display_name": "Python 3",
   "language": "python",
   "name": "python3"
  },
  "language_info": {
   "codemirror_mode": {
    "name": "ipython",
    "version": 3
   },
   "file_extension": ".py",
   "mimetype": "text/x-python",
   "name": "python",
   "nbconvert_exporter": "python",
   "pygments_lexer": "ipython3",
   "version": "3.8.3"
  }
 },
 "nbformat": 4,
 "nbformat_minor": 4
}
