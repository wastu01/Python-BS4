{
 "cells": [
  {
   "cell_type": "code",
   "execution_count": 9,
   "metadata": {},
   "outputs": [
    {
     "name": "stdout",
     "output_type": "stream",
     "text": [
      "<html dir=\"ltr\" lang=\"en\">\n",
      " <head>\n",
      "  <meta charset=\"utf-8\"/>\n",
      "  <title>\n",
      "   ntcudct\n",
      "  </title>\n",
      " </head>\n",
      " <body>\n",
      "  <h2>\n",
      "   this is h2\n",
      "  </h2>\n",
      "  <p>\n",
      "   this is p\n",
      "  </p>\n",
      "  <a href=\"www.google.com\">\n",
      "   this is a link\n",
      "  </a>\n",
      "  <h3 class=\"footer\">\n",
      "   hi master\n",
      "  </h3>\n",
      " </body>\n",
      "</html>\n"
     ]
    }
   ],
   "source": [
    "from bs4 import BeautifulSoup\n",
    "\n",
    "html_doc = \"\"\"<html lang=\"en\" dir=\"ltr\">\n",
    "<head><meta charset=\"utf-8\"><title>ntcudct</title></head>\n",
    "<body><h2>this is h2</h2><p>this is p</p><a href=\"www.google.com\">this is a link</a>\n",
    "<h3 class=\"footer\">hi master</h3></body></html>\"\"\"\n",
    "\n",
    "soup = BeautifulSoup(html_doc, \"html.parser\")\n",
    "\n",
    "a_tags = soup.find_aa('a')\n",
    "for tag in a_tag:\n",
    "    print('網址：'+str(tag.string)+' -> '+tag.get('href')\n",
    "\n"
   ]
  },
  {
   "cell_type": "code",
   "execution_count": null,
   "metadata": {},
   "outputs": [],
   "source": []
  },
  {
   "cell_type": "code",
   "execution_count": null,
   "metadata": {},
   "outputs": [],
   "source": []
  },
  {
   "cell_type": "code",
   "execution_count": null,
   "metadata": {},
   "outputs": [],
   "source": []
  }
 ],
 "metadata": {
  "kernelspec": {
   "display_name": "Python 3",
   "language": "python",
   "name": "python3"
  },
  "language_info": {
   "codemirror_mode": {
    "name": "ipython",
    "version": 3
   },
   "file_extension": ".py",
   "mimetype": "text/x-python",
   "name": "python",
   "nbconvert_exporter": "python",
   "pygments_lexer": "ipython3",
   "version": "3.8.3"
  }
 },
 "nbformat": 4,
 "nbformat_minor": 4
}
